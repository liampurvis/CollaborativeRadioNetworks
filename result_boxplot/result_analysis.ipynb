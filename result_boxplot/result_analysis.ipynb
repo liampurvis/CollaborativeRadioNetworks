{
 "cells": [
  {
   "cell_type": "markdown",
   "metadata": {},
   "source": [
    "<h1> Data analysis for result.zip</h1>"
   ]
  },
  {
   "cell_type": "markdown",
   "metadata": {},
   "source": [
    "<h3>  Import Statements </h3>\t\n"
   ]
  },
  {
   "cell_type": "code",
   "execution_count": 22,
   "metadata": {},
   "outputs": [],
   "source": [
    "#Import anything you need here\n",
    "import numpy as np\n",
    "import matplotlib.pyplot as plt\n",
    "import pandas as pd\n",
    "import matplotlib\n",
    "import os\n",
    "import pickle as pk\n",
    "import sys\n"
   ]
  },
  {
   "cell_type": "code",
   "execution_count": 23,
   "metadata": {},
   "outputs": [
    {
     "data": {
      "text/html": [
       "<div>\n",
       "<style scoped>\n",
       "    .dataframe tbody tr th:only-of-type {\n",
       "        vertical-align: middle;\n",
       "    }\n",
       "\n",
       "    .dataframe tbody tr th {\n",
       "        vertical-align: top;\n",
       "    }\n",
       "\n",
       "    .dataframe thead th {\n",
       "        text-align: right;\n",
       "    }\n",
       "</style>\n",
       "<table border=\"1\" class=\"dataframe\">\n",
       "  <thead>\n",
       "    <tr style=\"text-align: right;\">\n",
       "      <th></th>\n",
       "      <th>experiment_id</th>\n",
       "      <th>player_type</th>\n",
       "      <th>player_success</th>\n",
       "      <th>timesteps</th>\n",
       "    </tr>\n",
       "  </thead>\n",
       "  <tbody>\n",
       "    <tr>\n",
       "      <th>0</th>\n",
       "      <td>m_CT_0000001_10_5_5_ns</td>\n",
       "      <td>CSMA</td>\n",
       "      <td>4581</td>\n",
       "      <td>5000</td>\n",
       "    </tr>\n",
       "    <tr>\n",
       "      <th>1</th>\n",
       "      <td>m_CT_0000001_10_5_5_ns</td>\n",
       "      <td>CSMA</td>\n",
       "      <td>34</td>\n",
       "      <td>5000</td>\n",
       "    </tr>\n",
       "    <tr>\n",
       "      <th>2</th>\n",
       "      <td>m_CT_0000001_10_5_5_ns</td>\n",
       "      <td>CSMA</td>\n",
       "      <td>4752</td>\n",
       "      <td>5000</td>\n",
       "    </tr>\n",
       "    <tr>\n",
       "      <th>3</th>\n",
       "      <td>m_CT_0000001_10_5_5_ns</td>\n",
       "      <td>CSMA</td>\n",
       "      <td>401</td>\n",
       "      <td>5000</td>\n",
       "    </tr>\n",
       "    <tr>\n",
       "      <th>4</th>\n",
       "      <td>m_CT_0000001_10_5_5_ns</td>\n",
       "      <td>CSMA</td>\n",
       "      <td>4534</td>\n",
       "      <td>5000</td>\n",
       "    </tr>\n",
       "  </tbody>\n",
       "</table>\n",
       "</div>"
      ],
      "text/plain": [
       "            experiment_id player_type  player_success  timesteps\n",
       "0  m_CT_0000001_10_5_5_ns        CSMA            4581       5000\n",
       "1  m_CT_0000001_10_5_5_ns        CSMA              34       5000\n",
       "2  m_CT_0000001_10_5_5_ns        CSMA            4752       5000\n",
       "3  m_CT_0000001_10_5_5_ns        CSMA             401       5000\n",
       "4  m_CT_0000001_10_5_5_ns        CSMA            4534       5000"
      ]
     },
     "execution_count": 23,
     "metadata": {},
     "output_type": "execute_result"
    }
   ],
   "source": [
    "# read the result to a dataframe\n",
    "df = pd.read_pickle(\"raw_data.pkl\")\n",
    "df = df.drop(columns=[\"player_id\",\"simulation_id\",\"success_first_300_steps\",\"success_last_300_steps\"])\n",
    "df.head()"
   ]
  },
  {
   "cell_type": "code",
   "execution_count": 24,
   "metadata": {},
   "outputs": [
    {
     "data": {
      "text/plain": [
       "array(['CSMA', 'Thompsons', 'UCB discounted', 'UCB', 'Random',\n",
       "       'Thompsons discounted'], dtype=object)"
      ]
     },
     "execution_count": 24,
     "metadata": {},
     "output_type": "execute_result"
    }
   ],
   "source": [
    "# player type\n",
    "# R C U Ud T Td\n",
    "#'CSMA', 'Thompsons', 'UCB discounted', 'UCB', 'Random', 'Thompsons discounted'\n",
    "\n",
    "df = df.loc[(df[\"player_type\"] == \"CSMA\")   | (df[\"player_type\"] == \"Thompsons\")| \\\n",
    "   (df[\"player_type\"] == \"Random\") | (df[\"player_type\"] == \"UCB discounted\") |\\\n",
    "   (df[\"player_type\"] == \"UCB\")    | (df[\"player_type\"] == \"Thompsons discounted\")]\n",
    "df[\"player_type\"].unique()"
   ]
  },
  {
   "cell_type": "code",
   "execution_count": 25,
   "metadata": {},
   "outputs": [
    {
     "data": {
      "text/html": [
       "<div>\n",
       "<style scoped>\n",
       "    .dataframe tbody tr th:only-of-type {\n",
       "        vertical-align: middle;\n",
       "    }\n",
       "\n",
       "    .dataframe tbody tr th {\n",
       "        vertical-align: top;\n",
       "    }\n",
       "\n",
       "    .dataframe thead th {\n",
       "        text-align: right;\n",
       "    }\n",
       "</style>\n",
       "<table border=\"1\" class=\"dataframe\">\n",
       "  <thead>\n",
       "    <tr style=\"text-align: right;\">\n",
       "      <th></th>\n",
       "      <th>experiment_id</th>\n",
       "      <th>player_type</th>\n",
       "      <th>player_success</th>\n",
       "      <th>timesteps</th>\n",
       "      <th>static</th>\n",
       "      <th>occupied_channel</th>\n",
       "      <th>usable_channel</th>\n",
       "      <th>total_channel</th>\n",
       "      <th>group</th>\n",
       "      <th>player_types</th>\n",
       "    </tr>\n",
       "  </thead>\n",
       "  <tbody>\n",
       "    <tr>\n",
       "      <th>0</th>\n",
       "      <td>m_CT_0000001_10_5_5_ns</td>\n",
       "      <td>CSMA</td>\n",
       "      <td>4581</td>\n",
       "      <td>5000</td>\n",
       "      <td>False</td>\n",
       "      <td>5</td>\n",
       "      <td>5</td>\n",
       "      <td>10</td>\n",
       "      <td>0000001</td>\n",
       "      <td>CT</td>\n",
       "    </tr>\n",
       "    <tr>\n",
       "      <th>1</th>\n",
       "      <td>m_CT_0000001_10_5_5_ns</td>\n",
       "      <td>CSMA</td>\n",
       "      <td>34</td>\n",
       "      <td>5000</td>\n",
       "      <td>False</td>\n",
       "      <td>5</td>\n",
       "      <td>5</td>\n",
       "      <td>10</td>\n",
       "      <td>0000001</td>\n",
       "      <td>CT</td>\n",
       "    </tr>\n",
       "    <tr>\n",
       "      <th>2</th>\n",
       "      <td>m_CT_0000001_10_5_5_ns</td>\n",
       "      <td>CSMA</td>\n",
       "      <td>4752</td>\n",
       "      <td>5000</td>\n",
       "      <td>False</td>\n",
       "      <td>5</td>\n",
       "      <td>5</td>\n",
       "      <td>10</td>\n",
       "      <td>0000001</td>\n",
       "      <td>CT</td>\n",
       "    </tr>\n",
       "    <tr>\n",
       "      <th>3</th>\n",
       "      <td>m_CT_0000001_10_5_5_ns</td>\n",
       "      <td>CSMA</td>\n",
       "      <td>401</td>\n",
       "      <td>5000</td>\n",
       "      <td>False</td>\n",
       "      <td>5</td>\n",
       "      <td>5</td>\n",
       "      <td>10</td>\n",
       "      <td>0000001</td>\n",
       "      <td>CT</td>\n",
       "    </tr>\n",
       "    <tr>\n",
       "      <th>4</th>\n",
       "      <td>m_CT_0000001_10_5_5_ns</td>\n",
       "      <td>CSMA</td>\n",
       "      <td>4534</td>\n",
       "      <td>5000</td>\n",
       "      <td>False</td>\n",
       "      <td>5</td>\n",
       "      <td>5</td>\n",
       "      <td>10</td>\n",
       "      <td>0000001</td>\n",
       "      <td>CT</td>\n",
       "    </tr>\n",
       "  </tbody>\n",
       "</table>\n",
       "</div>"
      ],
      "text/plain": [
       "            experiment_id player_type  player_success  timesteps  static  \\\n",
       "0  m_CT_0000001_10_5_5_ns        CSMA            4581       5000   False   \n",
       "1  m_CT_0000001_10_5_5_ns        CSMA              34       5000   False   \n",
       "2  m_CT_0000001_10_5_5_ns        CSMA            4752       5000   False   \n",
       "3  m_CT_0000001_10_5_5_ns        CSMA             401       5000   False   \n",
       "4  m_CT_0000001_10_5_5_ns        CSMA            4534       5000   False   \n",
       "\n",
       "   occupied_channel  usable_channel  total_channel    group player_types  \n",
       "0                 5               5             10  0000001           CT  \n",
       "1                 5               5             10  0000001           CT  \n",
       "2                 5               5             10  0000001           CT  \n",
       "3                 5               5             10  0000001           CT  \n",
       "4                 5               5             10  0000001           CT  "
      ]
     },
     "execution_count": 25,
     "metadata": {},
     "output_type": "execute_result"
    }
   ],
   "source": [
    "# split type from experiment id\n",
    "eid_split = df[\"experiment_id\"].str.split('_')\n",
    "df[\"static\"]           = [eid[-1]==\"s\" for eid in eid_split]\n",
    "df[\"occupied_channel\"] = [int(eid[-2]) for eid in eid_split]\n",
    "df[\"usable_channel\"]   = [int(eid[-3]) for eid in eid_split]\n",
    "df[\"total_channel\"]    = [int(eid[-4]) for eid in eid_split]\n",
    "df[\"group\"]            = [eid[-5] for eid in eid_split]\n",
    "df[\"player_types\"]     = [eid[-6] for eid in eid_split]\n",
    "df.head()\n"
   ]
  },
  {
   "cell_type": "code",
   "execution_count": 26,
   "metadata": {},
   "outputs": [
    {
     "data": {
      "text/plain": [
       "array(['Thompsons', 'UCB discounted', 'UCB', None, 'CSMA',\n",
       "       'Thompsons discounted'], dtype=object)"
      ]
     },
     "execution_count": 26,
     "metadata": {},
     "output_type": "execute_result"
    }
   ],
   "source": [
    "# distinguishing player type of player one and player two\n",
    "\n",
    "d = {}\n",
    "d[\"RC\"] = [\"Random\", \"CSMA\"]\n",
    "d[\"RU\"] = [\"Random\", \"UCB\"]\n",
    "d[\"RUd\"] = [\"Random\", \"UCB discounted\"]\n",
    "d[\"RT\"] = [\"Random\", \"Thompsons\"]\n",
    "d[\"RTd\"] = [\"Random\", \"Thompsons discounted\"]\n",
    "\n",
    "d[\"CR\"] = [\"CSMA\", \"Random\"]\n",
    "d[\"CU\"] = [\"CSMA\", \"UCB\"]\n",
    "d[\"CUd\"] = [\"CSMA\", \"UCB discounted\"]\n",
    "d[\"CT\"] = [\"CSMA\", \"Thompsons\"]\n",
    "d[\"CTd\"] = [\"CSMA\", \"Thompsons discounted\"]\n",
    "\n",
    "d[\"UR\"] = [\"UCB\", \"Random\"]\n",
    "d[\"UC\"] = [\"UCB\", \"CSMA\"]\n",
    "d[\"UUd\"] = [\"UCB\", \"UCB discounted\"]\n",
    "d[\"UT\"] = [\"UCB\", \"Thompsons\"]\n",
    "d[\"UTd\"] = [\"UCB\", \"Thompsons discounted\"]\n",
    "\n",
    "d[\"UdR\"] = [\"UCB discounted\", \"Random\"]\n",
    "d[\"UdC\"] = [\"UCB discounted\", \"CSMA\"]\n",
    "d[\"UdU\"] = [\"UCB discounted\", \"UCB\"]\n",
    "d[\"UdT\"] = [\"UCB discounted\", \"Thompsons\"]\n",
    "d[\"UdTd\"] = [\"UCB discounted\", \"Thompsons discounted\"]\n",
    "\n",
    "d[\"TR\"] = [\"Thompsons\", \"Random\"]\n",
    "d[\"TC\"] = [\"Thompsons\", \"CSMA\"]\n",
    "d[\"TU\"] = [\"Thompsons\", \"UCB\"]\n",
    "d[\"TUd\"] = [\"Thompsons\", \"UCB discounted\"]\n",
    "d[\"TTd\"] = [\"Thompsons\", \"Thompsons discounted\"]\n",
    "\n",
    "d[\"TdR\"] = [\"Thompsons discounted\", \"Random\"]\n",
    "d[\"TdC\"] = [\"Thompsons discounted\", \"CSMA\"]\n",
    "d[\"TdU\"] = [\"Thompsons discounted\", \"UCB\"]\n",
    "d[\"TdUd\"] = [\"Thompsons discounted\", \"UCB discounted\"]\n",
    "d[\"TdT\"] = [\"Thompsons discounted\", \"Thompsons\"]\n",
    "\n",
    "d[\"R\"] = [\"Random\", None]\n",
    "d[\"C\"] = [\"CSMA\", None]\n",
    "d[\"U\"] = [\"UCB\", None]\n",
    "d[\"Ud\"] = [\"UCB discounted\", None]\n",
    "d[\"T\"] = [\"Thompsons\", None]\n",
    "d[\"Td\"] = [\"Thompsons discounted\", None]\n",
    "\n",
    "df[\"player_one_type\"] = [d[p][0] for p in df[\"player_types\"]]\n",
    "df[\"player_two_type\"] = [d[p][1] for p in df[\"player_types\"]]\n",
    "\n",
    "\n",
    "df[\"player_one_type\"].unique()\n",
    "df[\"player_two_type\"].unique()"
   ]
  },
  {
   "cell_type": "code",
   "execution_count": 27,
   "metadata": {},
   "outputs": [
    {
     "name": "stdout",
     "output_type": "stream",
     "text": [
      "0.9998 0.0\n"
     ]
    }
   ],
   "source": [
    "# scaling success by time step\n",
    "df[\"scaled_success\"] = df[\"player_success\"]/df[\"timesteps\"]\n",
    "print (df[\"scaled_success\"].max(), df[\"scaled_success\"].min())"
   ]
  },
  {
   "cell_type": "code",
   "execution_count": 28,
   "metadata": {},
   "outputs": [
    {
     "name": "stdout",
     "output_type": "stream",
     "text": [
      "['0000001' '000111' '0111111' '0000000']\n"
     ]
    }
   ],
   "source": [
    "# type of grouping\n",
    "print(df[\"group\"].unique())     # '0000001', '000111', '0111111', '0000000'\n",
    "\n",
    "# 1. all players are the same type\n",
    "df[\"single\"] = df[\"group\"] == \"0000000\"\n",
    "\n",
    "# 2. even number to the other\n",
    "df[\"even\"] = df[\"group\"] == \"000111\"\n",
    "\n",
    "# 3. minority or majority\n",
    "df[\"is_first_player\"] = df[\"player_type\"] == df[\"player_one_type\"]\n",
    "df[\"minority\"] = ((df[\"group\"]==\"0111111\") & (df[\"is_first_player\"]==True)) | \\\n",
    "                ((df[\"group\"]==\"0000001\") & (df[\"is_first_player\"]==False))\n",
    "df[\"majority\"] = ((df[\"group\"]==\"0111111\") & (df[\"is_first_player\"]==False)) | \\\n",
    "                ((df[\"group\"]==\"0000001\") & (df[\"is_first_player\"]==True))\n"
   ]
  },
  {
   "cell_type": "code",
   "execution_count": 29,
   "metadata": {},
   "outputs": [
    {
     "data": {
      "text/html": [
       "<div>\n",
       "<style scoped>\n",
       "    .dataframe tbody tr th:only-of-type {\n",
       "        vertical-align: middle;\n",
       "    }\n",
       "\n",
       "    .dataframe tbody tr th {\n",
       "        vertical-align: top;\n",
       "    }\n",
       "\n",
       "    .dataframe thead th {\n",
       "        text-align: right;\n",
       "    }\n",
       "</style>\n",
       "<table border=\"1\" class=\"dataframe\">\n",
       "  <thead>\n",
       "    <tr style=\"text-align: right;\">\n",
       "      <th></th>\n",
       "      <th>experiment_id</th>\n",
       "      <th>player_type</th>\n",
       "      <th>player_success</th>\n",
       "      <th>timesteps</th>\n",
       "      <th>static</th>\n",
       "      <th>occupied_channel</th>\n",
       "      <th>usable_channel</th>\n",
       "      <th>total_channel</th>\n",
       "      <th>group</th>\n",
       "      <th>player_types</th>\n",
       "      <th>player_one_type</th>\n",
       "      <th>player_two_type</th>\n",
       "      <th>scaled_success</th>\n",
       "      <th>single</th>\n",
       "      <th>even</th>\n",
       "      <th>is_first_player</th>\n",
       "      <th>minority</th>\n",
       "      <th>majority</th>\n",
       "      <th>player_num</th>\n",
       "      <th>constrained</th>\n",
       "    </tr>\n",
       "  </thead>\n",
       "  <tbody>\n",
       "    <tr>\n",
       "      <th>0</th>\n",
       "      <td>m_CT_0000001_10_5_5_ns</td>\n",
       "      <td>CSMA</td>\n",
       "      <td>4581</td>\n",
       "      <td>5000</td>\n",
       "      <td>False</td>\n",
       "      <td>5</td>\n",
       "      <td>5</td>\n",
       "      <td>10</td>\n",
       "      <td>0000001</td>\n",
       "      <td>CT</td>\n",
       "      <td>CSMA</td>\n",
       "      <td>Thompsons</td>\n",
       "      <td>0.9162</td>\n",
       "      <td>False</td>\n",
       "      <td>False</td>\n",
       "      <td>True</td>\n",
       "      <td>False</td>\n",
       "      <td>True</td>\n",
       "      <td>7</td>\n",
       "      <td>False</td>\n",
       "    </tr>\n",
       "    <tr>\n",
       "      <th>1</th>\n",
       "      <td>m_CT_0000001_10_5_5_ns</td>\n",
       "      <td>CSMA</td>\n",
       "      <td>34</td>\n",
       "      <td>5000</td>\n",
       "      <td>False</td>\n",
       "      <td>5</td>\n",
       "      <td>5</td>\n",
       "      <td>10</td>\n",
       "      <td>0000001</td>\n",
       "      <td>CT</td>\n",
       "      <td>CSMA</td>\n",
       "      <td>Thompsons</td>\n",
       "      <td>0.0068</td>\n",
       "      <td>False</td>\n",
       "      <td>False</td>\n",
       "      <td>True</td>\n",
       "      <td>False</td>\n",
       "      <td>True</td>\n",
       "      <td>7</td>\n",
       "      <td>False</td>\n",
       "    </tr>\n",
       "    <tr>\n",
       "      <th>2</th>\n",
       "      <td>m_CT_0000001_10_5_5_ns</td>\n",
       "      <td>CSMA</td>\n",
       "      <td>4752</td>\n",
       "      <td>5000</td>\n",
       "      <td>False</td>\n",
       "      <td>5</td>\n",
       "      <td>5</td>\n",
       "      <td>10</td>\n",
       "      <td>0000001</td>\n",
       "      <td>CT</td>\n",
       "      <td>CSMA</td>\n",
       "      <td>Thompsons</td>\n",
       "      <td>0.9504</td>\n",
       "      <td>False</td>\n",
       "      <td>False</td>\n",
       "      <td>True</td>\n",
       "      <td>False</td>\n",
       "      <td>True</td>\n",
       "      <td>7</td>\n",
       "      <td>False</td>\n",
       "    </tr>\n",
       "    <tr>\n",
       "      <th>3</th>\n",
       "      <td>m_CT_0000001_10_5_5_ns</td>\n",
       "      <td>CSMA</td>\n",
       "      <td>401</td>\n",
       "      <td>5000</td>\n",
       "      <td>False</td>\n",
       "      <td>5</td>\n",
       "      <td>5</td>\n",
       "      <td>10</td>\n",
       "      <td>0000001</td>\n",
       "      <td>CT</td>\n",
       "      <td>CSMA</td>\n",
       "      <td>Thompsons</td>\n",
       "      <td>0.0802</td>\n",
       "      <td>False</td>\n",
       "      <td>False</td>\n",
       "      <td>True</td>\n",
       "      <td>False</td>\n",
       "      <td>True</td>\n",
       "      <td>7</td>\n",
       "      <td>False</td>\n",
       "    </tr>\n",
       "    <tr>\n",
       "      <th>4</th>\n",
       "      <td>m_CT_0000001_10_5_5_ns</td>\n",
       "      <td>CSMA</td>\n",
       "      <td>4534</td>\n",
       "      <td>5000</td>\n",
       "      <td>False</td>\n",
       "      <td>5</td>\n",
       "      <td>5</td>\n",
       "      <td>10</td>\n",
       "      <td>0000001</td>\n",
       "      <td>CT</td>\n",
       "      <td>CSMA</td>\n",
       "      <td>Thompsons</td>\n",
       "      <td>0.9068</td>\n",
       "      <td>False</td>\n",
       "      <td>False</td>\n",
       "      <td>True</td>\n",
       "      <td>False</td>\n",
       "      <td>True</td>\n",
       "      <td>7</td>\n",
       "      <td>False</td>\n",
       "    </tr>\n",
       "  </tbody>\n",
       "</table>\n",
       "</div>"
      ],
      "text/plain": [
       "            experiment_id player_type  player_success  timesteps  static  \\\n",
       "0  m_CT_0000001_10_5_5_ns        CSMA            4581       5000   False   \n",
       "1  m_CT_0000001_10_5_5_ns        CSMA              34       5000   False   \n",
       "2  m_CT_0000001_10_5_5_ns        CSMA            4752       5000   False   \n",
       "3  m_CT_0000001_10_5_5_ns        CSMA             401       5000   False   \n",
       "4  m_CT_0000001_10_5_5_ns        CSMA            4534       5000   False   \n",
       "\n",
       "   occupied_channel  usable_channel  total_channel    group player_types  \\\n",
       "0                 5               5             10  0000001           CT   \n",
       "1                 5               5             10  0000001           CT   \n",
       "2                 5               5             10  0000001           CT   \n",
       "3                 5               5             10  0000001           CT   \n",
       "4                 5               5             10  0000001           CT   \n",
       "\n",
       "  player_one_type player_two_type  scaled_success  single   even  \\\n",
       "0            CSMA       Thompsons          0.9162   False  False   \n",
       "1            CSMA       Thompsons          0.0068   False  False   \n",
       "2            CSMA       Thompsons          0.9504   False  False   \n",
       "3            CSMA       Thompsons          0.0802   False  False   \n",
       "4            CSMA       Thompsons          0.9068   False  False   \n",
       "\n",
       "   is_first_player  minority  majority  player_num  constrained  \n",
       "0             True     False      True           7        False  \n",
       "1             True     False      True           7        False  \n",
       "2             True     False      True           7        False  \n",
       "3             True     False      True           7        False  \n",
       "4             True     False      True           7        False  "
      ]
     },
     "execution_count": 29,
     "metadata": {},
     "output_type": "execute_result"
    }
   ],
   "source": [
    "# constrained or not\n",
    "df[\"player_num\"] = df[\"group\"].str.len()\n",
    "df[\"constrained\"] = df[\"player_num\"] < df[\"usable_channel\"]\n",
    "df[\"player_num\"].unique()\n",
    "df.head()"
   ]
  },
  {
   "cell_type": "code",
   "execution_count": 30,
   "metadata": {},
   "outputs": [],
   "source": [
    "def extract_data(df, playerType, groupType, isStatic, isConstrained):\n",
    "    # -1 => consider all \n",
    "    data = df[(df[\"player_type\"] == playerType)]\n",
    "    if groupType != -1:\n",
    "        data = data[data[groupType] == True]\n",
    "    if isStatic != -1:\n",
    "        data = data[data[\"static\"] == isStatic]\n",
    "    if isConstrained != -1:\n",
    "        data = data[data[\"constrained\"] == isConstrained]\n",
    "    return data[\"scaled_success\"]\n",
    "\n",
    "def myplot(title, group_type, static_type, constrain_type):\n",
    "    fig, ax = plt.subplots()\n",
    "    ax.set_title(title)\n",
    "    data = [[] for i in range(6)]\n",
    "    name = ['Random','CSMA', 'UCB','UCB discounted', 'Thompsons', 'Thompsons discounted']\n",
    "    label = [\"Random\", 'CSMA', 'UCB', 'UCB_d', 'Tps', 'Tps_d' ]\n",
    "    for i in range(6):\n",
    "        data[i] = extract_data(df, name[i], group_type, static_type, constrain_type)\n",
    "    ax.set_ylabel('Scaled Reward')\n",
    "    ax.boxplot(data)\n",
    "    plt.xticks([1,2,3,4,5,6], label)\n",
    "    print (\"amount of data : \", [len(d) for d in data])"
   ]
  },
  {
   "cell_type": "code",
   "execution_count": 31,
   "metadata": {},
   "outputs": [
    {
     "name": "stdout",
     "output_type": "stream",
     "text": [
      "amount of data :  [144632, 144228, 140558, 136516, 134128, 116352]\n"
     ]
    },
    {
     "data": {
      "image/png": "[encoded data removed]",
      "text/plain": [
       "<Figure size 432x288 with 1 Axes>"
      ]
     },
     "metadata": {},
     "output_type": "display_data"
    }
   ],
   "source": [
    "# Global\n",
    "myplot(\"Global\", -1, -1, -1)"
   ]
  },
  {
   "cell_type": "code",
   "execution_count": 32,
   "metadata": {},
   "outputs": [
    {
     "name": "stdout",
     "output_type": "stream",
     "text": [
      "amount of data :  [11312, 11312, 11284, 11312, 11312, 11312]\n"
     ]
    },
    {
     "data": {
      "image/png": "[encoded data removed]",
      "text/plain": [
       "<Figure size 432x288 with 1 Axes>"
      ]
     },
     "metadata": {},
     "output_type": "display_data"
    }
   ],
   "source": [
    "# Single\n",
    "myplot(\"Single\", \"single\", -1, -1)"
   ]
  },
  {
   "cell_type": "code",
   "execution_count": 33,
   "metadata": {},
   "outputs": [
    {
     "name": "stdout",
     "output_type": "stream",
     "text": [
      "amount of data :  [13332, 12928, 12922, 12524, 12524, 10504]\n"
     ]
    },
    {
     "data": {
      "image/png": "[encoded data removed]",
      "text/plain": [
       "<Figure size 432x288 with 1 Axes>"
      ]
     },
     "metadata": {},
     "output_type": "display_data"
    }
   ],
   "source": [
    "# Minority\n",
    "myplot(\"Minority\", \"minority\", -1, -1)"
   ]
  },
  {
   "cell_type": "code",
   "execution_count": 34,
   "metadata": {},
   "outputs": [
    {
     "name": "stdout",
     "output_type": "stream",
     "text": [
      "amount of data :  [79992, 79992, 77568, 75108, 72720, 63024]\n"
     ]
    },
    {
     "data": {
      "image/png": "[encoded data removed]",
      "text/plain": [
       "<Figure size 432x288 with 1 Axes>"
      ]
     },
     "metadata": {},
     "output_type": "display_data"
    }
   ],
   "source": [
    "# Majority\n",
    "myplot(\"Majority\", \"majority\", -1, -1)"
   ]
  },
  {
   "cell_type": "code",
   "execution_count": 14,
   "metadata": {},
   "outputs": [
    {
     "name": "stdout",
     "output_type": "stream",
     "text": [
      "amount of data :  [39996, 39996, 38784, 37572, 37572, 31512]\n"
     ]
    },
    {
     "data": {
      "image/png": "[encoded data removed]",
      "text/plain": [
       "<Figure size 432x288 with 1 Axes>"
      ]
     },
     "metadata": {},
     "output_type": "display_data"
    }
   ],
   "source": [
    "# Even\n",
    "myplot(\"Even\", \"even\", -1, -1)"
   ]
  },
  {
   "cell_type": "code",
   "execution_count": 15,
   "metadata": {},
   "outputs": [
    {
     "name": "stdout",
     "output_type": "stream",
     "text": [
      "amount of data :  [105444, 105040, 97336, 97364, 94940, 89284]\n"
     ]
    },
    {
     "data": {
      "image/png": "[encoded data removed]",
      "text/plain": [
       "<Figure size 432x288 with 1 Axes>"
      ]
     },
     "metadata": {},
     "output_type": "display_data"
    }
   ],
   "source": [
    "# Static\n",
    "myplot(\"Static\", -1, True, -1)"
   ]
  },
  {
   "cell_type": "code",
   "execution_count": 16,
   "metadata": {},
   "outputs": [
    {
     "name": "stdout",
     "output_type": "stream",
     "text": [
      "amount of data :  [39188, 39188, 43222, 39152, 39188, 27068]\n"
     ]
    },
    {
     "data": {
      "image/png": "[encoded data removed]",
      "text/plain": [
       "<Figure size 432x288 with 1 Axes>"
      ]
     },
     "metadata": {},
     "output_type": "display_data"
    }
   ],
   "source": [
    "# Non Static\n",
    "myplot(\"Non Static\", -1, False, -1)"
   ]
  },
  {
   "cell_type": "code",
   "execution_count": 17,
   "metadata": {},
   "outputs": [
    {
     "name": "stdout",
     "output_type": "stream",
     "text": [
      "amount of data :  [50096, 50096, 39592, 39592, 39592, 29088]\n"
     ]
    },
    {
     "data": {
      "image/png": "[encoded data removed]",
      "text/plain": [
       "<Figure size 432x288 with 1 Axes>"
      ]
     },
     "metadata": {},
     "output_type": "display_data"
    }
   ],
   "source": [
    "# Constrained\n",
    "myplot(\"Constrained Environment\", -1, -1, True)"
   ]
  },
  {
   "cell_type": "code",
   "execution_count": 18,
   "metadata": {},
   "outputs": [
    {
     "name": "stdout",
     "output_type": "stream",
     "text": [
      "amount of data :  [94536, 94132, 100966, 96924, 94536, 87264]\n"
     ]
    },
    {
     "data": {
      "image/png": "[encoded data removed]",
      "text/plain": [
       "<Figure size 432x288 with 1 Axes>"
      ]
     },
     "metadata": {},
     "output_type": "display_data"
    }
   ],
   "source": [
    "# Unconstrained\n",
    "myplot(\"Unconstrained Environment\", -1, -1, False)"
   ]
  },
  {
   "cell_type": "code",
   "execution_count": null,
   "metadata": {},
   "outputs": [],
   "source": []
  }
 ],
 "metadata": {
  "kernelspec": {
   "display_name": "Python 3",
   "language": "python",
   "name": "python3"
  },
  "language_info": {
   "codemirror_mode": {
    "name": "ipython",
    "version": 3
   },
   "file_extension": ".py",
   "mimetype": "text/x-python",
   "name": "python",
   "nbconvert_exporter": "python",
   "pygments_lexer": "ipython3",
   "version": "3.6.5"
  }
 },
 "nbformat": 4,
 "nbformat_minor": 2
}
